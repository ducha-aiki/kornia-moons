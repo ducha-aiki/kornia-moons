{
 "cells": [
  {
   "cell_type": "code",
   "execution_count": null,
   "metadata": {},
   "outputs": [],
   "source": [
    "#hide\n",
    "from kornia_moons.feature import *"
   ]
  },
  {
   "cell_type": "markdown",
   "metadata": {},
   "source": [
    "# Kornia-moons\n",
    "\n",
    "> Helper functions for navigating the space around planet Kornia ;)"
   ]
  },
  {
   "cell_type": "markdown",
   "metadata": {},
   "source": [
    "## Install"
   ]
  },
  {
   "cell_type": "markdown",
   "metadata": {},
   "source": [
    "`pip install kornia_moons`"
   ]
  },
  {
   "cell_type": "markdown",
   "metadata": {},
   "source": [
    "## How to use"
   ]
  },
  {
   "cell_type": "markdown",
   "metadata": {},
   "source": [
    "Here is an example how to use kornia-moons for local feature conversion from OpenCV ORB keypoints"
   ]
  },
  {
   "cell_type": "code",
   "execution_count": null,
   "metadata": {},
   "outputs": [],
   "source": [
    "%matplotlib inline\n",
    "import matplotlib.pyplot as plt\n",
    "import cv2\n",
    "import torch\n",
    "import kornia as K\n",
    "from typing import List\n",
    "import matplotlib.pyplot as plt\n",
    "\n",
    "from kornia_moons.feature import *\n",
    "\n",
    "\n",
    "img = cv2.cvtColor(cv2.imread('data/strahov.png'), cv2.COLOR_BGR2RGB)\n",
    "\n",
    "det = cv2.ORB_create(500)\n",
    "kps, descs = det.detectAndCompute(img, None)\n",
    "\n",
    "out_img = cv2.drawKeypoints(img, kps, None, flags=cv2.DRAW_MATCHES_FLAGS_DRAW_RICH_KEYPOINTS)\n",
    "plt.imshow(out_img)\n",
    "\n",
    "\n",
    "lafs = laf_from_opencv_ORB_kpts(kps)\n",
    "visualize_LAF(K.image_to_tensor(img, False), lafs, 0)\n",
    "\n",
    "kps_back = opencv_ORB_kpts_from_laf(lafs)\n",
    "out_img2 = cv2.drawKeypoints(img, kps_back, None, flags=cv2.DRAW_MATCHES_FLAGS_DRAW_RICH_KEYPOINTS)\n",
    "plt.imshow(out_img2)"
   ]
  },
  {
   "cell_type": "code",
   "execution_count": null,
   "metadata": {},
   "outputs": [],
   "source": []
  }
 ],
 "metadata": {
  "kernelspec": {
   "display_name": "Python 3",
   "language": "python",
   "name": "python3"
  }
 },
 "nbformat": 4,
 "nbformat_minor": 2
}
